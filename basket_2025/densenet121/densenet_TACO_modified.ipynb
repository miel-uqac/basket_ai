{
  "cells": [
    {
      "cell_type": "markdown",
      "metadata": {
        "id": "S__1QFQTIEs7"
      },
      "source": [
        "# Vision artificelle et traintement des images"
      ]
    },
    {
      "cell_type": "markdown",
      "metadata": {},
      "source": [
        "Ce notebook présente l'utilisation du modèle DenseNet121 pour classer les images de notre dataset. \n",
        "\n",
        "Le modèle est d'abord pré-entrainé sur le dataset TACO qui a été modifié. Le dataset ainsi que les modifications sont présentés par la suite.  \n",
        "\n",
        "Il est possible de ne pas lancer l'entrainement du modèle et de charger le modèle pré-entrainé sur le dataset qui se nomme \"densenet_TACO_modified.pth\". \n",
        "\n",
        "Les résultats du modèle sont présentés à la fin du notebook."
      ]
    },
    {
      "cell_type": "markdown",
      "metadata": {
        "id": "f8x9xcp3JNB9"
      },
      "source": [
        "## Fine tuning de denseNet121 avec le dataset TACO modifié\n",
        "\n",
        "Le dataset utilisé est le dataset *taco-trash-dataset* de Kaggle disponible à l'adresse suivante :\n",
        "https://www.kaggle.com/datasets/kneroma/tacotrashdataset"
      ]
    },
    {
      "cell_type": "markdown",
      "metadata": {},
      "source": [
        "Ce dataset est modifié pour avoir les classes : \n",
        "- bouteilles \n",
        "- cannettes\n",
        "- autres"
      ]
    },
    {
      "cell_type": "markdown",
      "metadata": {},
      "source": [
        "### Pré-traitement des données"
      ]
    },
    {
      "cell_type": "code",
      "execution_count": 2,
      "metadata": {
        "colab": {
          "base_uri": "https://localhost:8080/"
        },
        "id": "rqSeMzMgJL4V",
        "outputId": "27a954e7-8ec9-431a-ad0b-98310732b238"
      },
      "outputs": [
        {
          "name": "stderr",
          "output_type": "stream",
          "text": [
            "/home/am/UQAC/VA/va-env/lib/python3.12/site-packages/tqdm/auto.py:21: TqdmWarning: IProgress not found. Please update jupyter and ipywidgets. See https://ipywidgets.readthedocs.io/en/stable/user_install.html\n",
            "  from .autonotebook import tqdm as notebook_tqdm\n"
          ]
        }
      ],
      "source": [
        "# Récupération des données via Kagglehub\n",
        "\n",
        "import kagglehub\n",
        "path = kagglehub.dataset_download(\"kneroma/tacotrashdataset\")\n"
      ]
    },
    {
      "cell_type": "code",
      "execution_count": 3,
      "metadata": {
        "colab": {
          "base_uri": "https://localhost:8080/",
          "height": 330
        },
        "id": "C65f6qoHI0Nc",
        "outputId": "3c676ef2-8bc6-408a-f90a-e7fba0c33705"
      },
      "outputs": [
        {
          "data": {
            "text/html": [
              "<div>\n",
              "<style scoped>\n",
              "    .dataframe tbody tr th:only-of-type {\n",
              "        vertical-align: middle;\n",
              "    }\n",
              "\n",
              "    .dataframe tbody tr th {\n",
              "        vertical-align: top;\n",
              "    }\n",
              "\n",
              "    .dataframe thead th {\n",
              "        text-align: right;\n",
              "    }\n",
              "</style>\n",
              "<table border=\"1\" class=\"dataframe\">\n",
              "  <thead>\n",
              "    <tr style=\"text-align: right;\">\n",
              "      <th></th>\n",
              "      <th>img_id</th>\n",
              "      <th>img_width</th>\n",
              "      <th>img_height</th>\n",
              "      <th>img_file</th>\n",
              "      <th>cat_id</th>\n",
              "      <th>cat_name</th>\n",
              "      <th>supercategory</th>\n",
              "      <th>ann_id</th>\n",
              "      <th>x</th>\n",
              "      <th>y</th>\n",
              "      <th>width</th>\n",
              "      <th>height</th>\n",
              "      <th>area</th>\n",
              "    </tr>\n",
              "  </thead>\n",
              "  <tbody>\n",
              "    <tr>\n",
              "      <th>0</th>\n",
              "      <td>0</td>\n",
              "      <td>1537</td>\n",
              "      <td>2049</td>\n",
              "      <td>batch_1/000006.jpg</td>\n",
              "      <td>6</td>\n",
              "      <td>Glass bottle</td>\n",
              "      <td>Bottle</td>\n",
              "      <td>1</td>\n",
              "      <td>517.0</td>\n",
              "      <td>127.0</td>\n",
              "      <td>447.0</td>\n",
              "      <td>1322.0</td>\n",
              "      <td>403954.0</td>\n",
              "    </tr>\n",
              "    <tr>\n",
              "      <th>1</th>\n",
              "      <td>1</td>\n",
              "      <td>1537</td>\n",
              "      <td>2049</td>\n",
              "      <td>batch_1/000008.jpg</td>\n",
              "      <td>18</td>\n",
              "      <td>Meal carton</td>\n",
              "      <td>Carton</td>\n",
              "      <td>2</td>\n",
              "      <td>1.0</td>\n",
              "      <td>457.0</td>\n",
              "      <td>1429.0</td>\n",
              "      <td>1519.0</td>\n",
              "      <td>1071259.5</td>\n",
              "    </tr>\n",
              "    <tr>\n",
              "      <th>2</th>\n",
              "      <td>1</td>\n",
              "      <td>1537</td>\n",
              "      <td>2049</td>\n",
              "      <td>batch_1/000008.jpg</td>\n",
              "      <td>14</td>\n",
              "      <td>Other carton</td>\n",
              "      <td>Carton</td>\n",
              "      <td>3</td>\n",
              "      <td>531.0</td>\n",
              "      <td>292.0</td>\n",
              "      <td>1006.0</td>\n",
              "      <td>672.0</td>\n",
              "      <td>99583.5</td>\n",
              "    </tr>\n",
              "    <tr>\n",
              "      <th>3</th>\n",
              "      <td>2</td>\n",
              "      <td>1537</td>\n",
              "      <td>2049</td>\n",
              "      <td>batch_1/000010.jpg</td>\n",
              "      <td>5</td>\n",
              "      <td>Clear plastic bottle</td>\n",
              "      <td>Bottle</td>\n",
              "      <td>4</td>\n",
              "      <td>632.0</td>\n",
              "      <td>987.0</td>\n",
              "      <td>500.0</td>\n",
              "      <td>374.0</td>\n",
              "      <td>73832.5</td>\n",
              "    </tr>\n",
              "    <tr>\n",
              "      <th>4</th>\n",
              "      <td>2</td>\n",
              "      <td>1537</td>\n",
              "      <td>2049</td>\n",
              "      <td>batch_1/000010.jpg</td>\n",
              "      <td>7</td>\n",
              "      <td>Plastic bottle cap</td>\n",
              "      <td>Bottle cap</td>\n",
              "      <td>5</td>\n",
              "      <td>632.0</td>\n",
              "      <td>989.0</td>\n",
              "      <td>44.0</td>\n",
              "      <td>51.0</td>\n",
              "      <td>915.0</td>\n",
              "    </tr>\n",
              "  </tbody>\n",
              "</table>\n",
              "</div>"
            ],
            "text/plain": [
              "   img_id  img_width  img_height            img_file  cat_id  \\\n",
              "0       0       1537        2049  batch_1/000006.jpg       6   \n",
              "1       1       1537        2049  batch_1/000008.jpg      18   \n",
              "2       1       1537        2049  batch_1/000008.jpg      14   \n",
              "3       2       1537        2049  batch_1/000010.jpg       5   \n",
              "4       2       1537        2049  batch_1/000010.jpg       7   \n",
              "\n",
              "               cat_name supercategory  ann_id      x      y   width  height  \\\n",
              "0          Glass bottle        Bottle       1  517.0  127.0   447.0  1322.0   \n",
              "1           Meal carton        Carton       2    1.0  457.0  1429.0  1519.0   \n",
              "2          Other carton        Carton       3  531.0  292.0  1006.0   672.0   \n",
              "3  Clear plastic bottle        Bottle       4  632.0  987.0   500.0   374.0   \n",
              "4    Plastic bottle cap    Bottle cap       5  632.0  989.0    44.0    51.0   \n",
              "\n",
              "        area  \n",
              "0   403954.0  \n",
              "1  1071259.5  \n",
              "2    99583.5  \n",
              "3    73832.5  \n",
              "4      915.0  "
            ]
          },
          "execution_count": 3,
          "metadata": {},
          "output_type": "execute_result"
        }
      ],
      "source": [
        "# Affichage des données\n",
        "dataset_file = path + \"/meta_df.csv\"\n",
        "import pandas as pd\n",
        "df = pd.read_csv(dataset_file)\n",
        "df.head()"
      ]
    },
    {
      "cell_type": "code",
      "execution_count": 4,
      "metadata": {
        "colab": {
          "base_uri": "https://localhost:8080/"
        },
        "id": "ZpAb8LZNK0O_",
        "outputId": "d44c7976-968b-4dba-e478-623ffb7d9de1"
      },
      "outputs": [
        {
          "name": "stdout",
          "output_type": "stream",
          "text": [
            "categories :59\n",
            "super categories :28\n",
            "images :4784\n"
          ]
        }
      ],
      "source": [
        "# Affichage des categories et des supercategories\n",
        "categories = df['cat_name'].unique()\n",
        "nb_categories = len(categories)\n",
        "supercategories = df['supercategory'].unique()\n",
        "nb_supercategories = len(supercategories)\n",
        "nb_images = len(df)\n",
        "#print(categories)\n",
        "#print(supercategories)\n",
        "print(\"categories :\" + str(nb_categories))\n",
        "print(\"super categories :\" + str(nb_supercategories))\n",
        "print(\"images :\" + str(nb_images))"
      ]
    },
    {
      "cell_type": "code",
      "execution_count": 5,
      "metadata": {
        "colab": {
          "base_uri": "https://localhost:8080/",
          "height": 206
        },
        "id": "YIveTHetN7B3",
        "outputId": "e322afd4-4886-468d-d8ea-3ca08822b46e"
      },
      "outputs": [
        {
          "data": {
            "text/html": [
              "<div>\n",
              "<style scoped>\n",
              "    .dataframe tbody tr th:only-of-type {\n",
              "        vertical-align: middle;\n",
              "    }\n",
              "\n",
              "    .dataframe tbody tr th {\n",
              "        vertical-align: top;\n",
              "    }\n",
              "\n",
              "    .dataframe thead th {\n",
              "        text-align: right;\n",
              "    }\n",
              "</style>\n",
              "<table border=\"1\" class=\"dataframe\">\n",
              "  <thead>\n",
              "    <tr style=\"text-align: right;\">\n",
              "      <th></th>\n",
              "      <th>img_id</th>\n",
              "      <th>img_width</th>\n",
              "      <th>img_height</th>\n",
              "      <th>img_file</th>\n",
              "      <th>supercategory</th>\n",
              "    </tr>\n",
              "  </thead>\n",
              "  <tbody>\n",
              "    <tr>\n",
              "      <th>0</th>\n",
              "      <td>0</td>\n",
              "      <td>1537</td>\n",
              "      <td>2049</td>\n",
              "      <td>batch_1/000006.jpg</td>\n",
              "      <td>Bottle</td>\n",
              "    </tr>\n",
              "    <tr>\n",
              "      <th>1</th>\n",
              "      <td>1</td>\n",
              "      <td>1537</td>\n",
              "      <td>2049</td>\n",
              "      <td>batch_1/000008.jpg</td>\n",
              "      <td>Carton</td>\n",
              "    </tr>\n",
              "    <tr>\n",
              "      <th>2</th>\n",
              "      <td>1</td>\n",
              "      <td>1537</td>\n",
              "      <td>2049</td>\n",
              "      <td>batch_1/000008.jpg</td>\n",
              "      <td>Carton</td>\n",
              "    </tr>\n",
              "    <tr>\n",
              "      <th>3</th>\n",
              "      <td>2</td>\n",
              "      <td>1537</td>\n",
              "      <td>2049</td>\n",
              "      <td>batch_1/000010.jpg</td>\n",
              "      <td>Bottle</td>\n",
              "    </tr>\n",
              "    <tr>\n",
              "      <th>4</th>\n",
              "      <td>2</td>\n",
              "      <td>1537</td>\n",
              "      <td>2049</td>\n",
              "      <td>batch_1/000010.jpg</td>\n",
              "      <td>Bottle cap</td>\n",
              "    </tr>\n",
              "  </tbody>\n",
              "</table>\n",
              "</div>"
            ],
            "text/plain": [
              "   img_id  img_width  img_height            img_file supercategory\n",
              "0       0       1537        2049  batch_1/000006.jpg        Bottle\n",
              "1       1       1537        2049  batch_1/000008.jpg        Carton\n",
              "2       1       1537        2049  batch_1/000008.jpg        Carton\n",
              "3       2       1537        2049  batch_1/000010.jpg        Bottle\n",
              "4       2       1537        2049  batch_1/000010.jpg    Bottle cap"
            ]
          },
          "execution_count": 5,
          "metadata": {},
          "output_type": "execute_result"
        }
      ],
      "source": [
        "# Prétraitement du dataset\n",
        "\"\"\" On ne garde que les supercategories et on enlève les annotations \"\"\"\n",
        "\n",
        "df = df.drop(['cat_id','cat_name', 'ann_id', 'x', 'y', 'width', 'height', 'area'], axis=1)\n",
        "df.head()"
      ]
    },
    {
      "cell_type": "markdown",
      "metadata": {},
      "source": [
        "**On ne conserve que les classes bouteilles, canettes et on passe tout le reste en autre**"
      ]
    },
    {
      "cell_type": "code",
      "execution_count": null,
      "metadata": {},
      "outputs": [],
      "source": [
        "# Créer 3 classes : Bottle, Can, Other\n",
        "\n",
        "for i in range(len(df)):\n",
        "    if df['supercategory'][i] == 'Bottle':\n",
        "        df['supercategory'][i] = 'Bottle'\n",
        "    elif df['supercategory'][i] == 'Can':\n",
        "        df['supercategory'][i] = 'Can'\n",
        "    else:\n",
        "        df['supercategory'][i] = 'Other'"
      ]
    },
    {
      "cell_type": "code",
      "execution_count": 11,
      "metadata": {},
      "outputs": [
        {
          "data": {
            "text/html": [
              "<div>\n",
              "<style scoped>\n",
              "    .dataframe tbody tr th:only-of-type {\n",
              "        vertical-align: middle;\n",
              "    }\n",
              "\n",
              "    .dataframe tbody tr th {\n",
              "        vertical-align: top;\n",
              "    }\n",
              "\n",
              "    .dataframe thead th {\n",
              "        text-align: right;\n",
              "    }\n",
              "</style>\n",
              "<table border=\"1\" class=\"dataframe\">\n",
              "  <thead>\n",
              "    <tr style=\"text-align: right;\">\n",
              "      <th></th>\n",
              "      <th>img_id</th>\n",
              "      <th>img_width</th>\n",
              "      <th>img_height</th>\n",
              "      <th>img_file</th>\n",
              "      <th>supercategory</th>\n",
              "    </tr>\n",
              "  </thead>\n",
              "  <tbody>\n",
              "    <tr>\n",
              "      <th>0</th>\n",
              "      <td>0</td>\n",
              "      <td>1537</td>\n",
              "      <td>2049</td>\n",
              "      <td>batch_1/000006.jpg</td>\n",
              "      <td>Bottle</td>\n",
              "    </tr>\n",
              "    <tr>\n",
              "      <th>1</th>\n",
              "      <td>1</td>\n",
              "      <td>1537</td>\n",
              "      <td>2049</td>\n",
              "      <td>batch_1/000008.jpg</td>\n",
              "      <td>Other</td>\n",
              "    </tr>\n",
              "    <tr>\n",
              "      <th>2</th>\n",
              "      <td>1</td>\n",
              "      <td>1537</td>\n",
              "      <td>2049</td>\n",
              "      <td>batch_1/000008.jpg</td>\n",
              "      <td>Other</td>\n",
              "    </tr>\n",
              "    <tr>\n",
              "      <th>3</th>\n",
              "      <td>2</td>\n",
              "      <td>1537</td>\n",
              "      <td>2049</td>\n",
              "      <td>batch_1/000010.jpg</td>\n",
              "      <td>Bottle</td>\n",
              "    </tr>\n",
              "    <tr>\n",
              "      <th>4</th>\n",
              "      <td>2</td>\n",
              "      <td>1537</td>\n",
              "      <td>2049</td>\n",
              "      <td>batch_1/000010.jpg</td>\n",
              "      <td>Other</td>\n",
              "    </tr>\n",
              "  </tbody>\n",
              "</table>\n",
              "</div>"
            ],
            "text/plain": [
              "   img_id  img_width  img_height            img_file supercategory\n",
              "0       0       1537        2049  batch_1/000006.jpg        Bottle\n",
              "1       1       1537        2049  batch_1/000008.jpg         Other\n",
              "2       1       1537        2049  batch_1/000008.jpg         Other\n",
              "3       2       1537        2049  batch_1/000010.jpg        Bottle\n",
              "4       2       1537        2049  batch_1/000010.jpg         Other"
            ]
          },
          "execution_count": 11,
          "metadata": {},
          "output_type": "execute_result"
        }
      ],
      "source": [
        "df.head()"
      ]
    },
    {
      "cell_type": "code",
      "execution_count": 12,
      "metadata": {
        "colab": {
          "base_uri": "https://localhost:8080/",
          "height": 206
        },
        "id": "DhNA903badSy",
        "outputId": "c41b843f-f77c-4c80-bbf4-55012d92bfd3"
      },
      "outputs": [
        {
          "data": {
            "text/html": [
              "<div>\n",
              "<style scoped>\n",
              "    .dataframe tbody tr th:only-of-type {\n",
              "        vertical-align: middle;\n",
              "    }\n",
              "\n",
              "    .dataframe tbody tr th {\n",
              "        vertical-align: top;\n",
              "    }\n",
              "\n",
              "    .dataframe thead th {\n",
              "        text-align: right;\n",
              "    }\n",
              "</style>\n",
              "<table border=\"1\" class=\"dataframe\">\n",
              "  <thead>\n",
              "    <tr style=\"text-align: right;\">\n",
              "      <th></th>\n",
              "      <th>img_id</th>\n",
              "      <th>img_width</th>\n",
              "      <th>img_height</th>\n",
              "      <th>img_file</th>\n",
              "      <th>supercategory</th>\n",
              "    </tr>\n",
              "  </thead>\n",
              "  <tbody>\n",
              "    <tr>\n",
              "      <th>0</th>\n",
              "      <td>868</td>\n",
              "      <td>3264</td>\n",
              "      <td>2448</td>\n",
              "      <td>batch_3/IMG_5061.JPG</td>\n",
              "      <td>Other</td>\n",
              "    </tr>\n",
              "    <tr>\n",
              "      <th>1</th>\n",
              "      <td>1340</td>\n",
              "      <td>2448</td>\n",
              "      <td>3264</td>\n",
              "      <td>batch_8/000040.jpg</td>\n",
              "      <td>Bottle</td>\n",
              "    </tr>\n",
              "    <tr>\n",
              "      <th>2</th>\n",
              "      <td>102</td>\n",
              "      <td>4000</td>\n",
              "      <td>1824</td>\n",
              "      <td>batch_10/000001.jpg</td>\n",
              "      <td>Other</td>\n",
              "    </tr>\n",
              "    <tr>\n",
              "      <th>3</th>\n",
              "      <td>455</td>\n",
              "      <td>4160</td>\n",
              "      <td>3120</td>\n",
              "      <td>batch_13/000054.jpg</td>\n",
              "      <td>Can</td>\n",
              "    </tr>\n",
              "    <tr>\n",
              "      <th>4</th>\n",
              "      <td>172</td>\n",
              "      <td>1824</td>\n",
              "      <td>4000</td>\n",
              "      <td>batch_10/000071.jpg</td>\n",
              "      <td>Other</td>\n",
              "    </tr>\n",
              "  </tbody>\n",
              "</table>\n",
              "</div>"
            ],
            "text/plain": [
              "   img_id  img_width  img_height              img_file supercategory\n",
              "0     868       3264        2448  batch_3/IMG_5061.JPG         Other\n",
              "1    1340       2448        3264    batch_8/000040.jpg        Bottle\n",
              "2     102       4000        1824   batch_10/000001.jpg         Other\n",
              "3     455       4160        3120   batch_13/000054.jpg           Can\n",
              "4     172       1824        4000   batch_10/000071.jpg         Other"
            ]
          },
          "execution_count": 12,
          "metadata": {},
          "output_type": "execute_result"
        }
      ],
      "source": [
        "# Mélange du dataset et rétécissement\n",
        "new_df = df.sample(frac=1).reset_index(drop=True)\n",
        "new_df = new_df.head(2000)\n",
        "new_df.head()"
      ]
    },
    {
      "cell_type": "code",
      "execution_count": 16,
      "metadata": {
        "id": "Ta5JIZ5sa-fw"
      },
      "outputs": [],
      "source": [
        "# Sauvegarde au format .csv\n",
        "new_df.to_csv('trash_dataset.csv', index=False)"
      ]
    },
    {
      "cell_type": "code",
      "execution_count": 17,
      "metadata": {
        "colab": {
          "base_uri": "https://localhost:8080/"
        },
        "id": "Dl2LQKFk6OWy",
        "outputId": "8cc6412f-4f1c-4f6d-bd73-9c4558e0fb61"
      },
      "outputs": [
        {
          "data": {
            "text/plain": [
              "array(['Other', 'Bottle', 'Can'], dtype=object)"
            ]
          },
          "execution_count": 17,
          "metadata": {},
          "output_type": "execute_result"
        }
      ],
      "source": [
        "# Affichage des classes de new_df\n",
        "new_df['supercategory'].unique()"
      ]
    },
    {
      "cell_type": "code",
      "execution_count": 18,
      "metadata": {
        "id": "o3lo23-NVGia"
      },
      "outputs": [],
      "source": [
        "### Création d'un dataset personnalisé\n",
        "\n",
        "import os\n",
        "import pandas as pd\n",
        "from PIL import Image\n",
        "from torchvision import transforms\n",
        "from torch.utils.data import Dataset, DataLoader\n",
        "\n",
        "class CustomImageDataset(Dataset):\n",
        "    def __init__(self, csv_file, img_dir, transform=None):\n",
        "        self.data = pd.read_csv(csv_file)\n",
        "        self.img_dir = img_dir\n",
        "        self.transform = transform\n",
        "        self.classes = sorted(self.data['supercategory'].unique())\n",
        "        self.class_to_idx = {cls_name: idx for idx, cls_name in enumerate(self.classes)}\n",
        "\n",
        "    def __len__(self):\n",
        "        return len(self.data)\n",
        "\n",
        "    def __getitem__(self, idx):\n",
        "        img_path = os.path.join(self.img_dir, self.data.iloc[idx]['img_file'])\n",
        "        image = Image.open(img_path).convert('RGB')\n",
        "        label_name = self.data.iloc[idx]['supercategory']\n",
        "        label = self.class_to_idx[label_name]\n",
        "\n",
        "        if self.transform:\n",
        "            image = self.transform(image)\n",
        "\n",
        "        return image, label\n",
        "\n",
        "\n",
        "transform = transforms.Compose([\n",
        "    transforms.Resize((224, 224)),\n",
        "    transforms.ToTensor(),\n",
        "    transforms.Normalize(mean=[0.485, 0.456, 0.406], std=[0.229, 0.224, 0.225])\n",
        "])\n",
        "\n"
      ]
    },
    {
      "cell_type": "code",
      "execution_count": 19,
      "metadata": {
        "colab": {
          "base_uri": "https://localhost:8080/"
        },
        "id": "z8YlW0WdWSYO",
        "outputId": "34572e37-f3c5-4875-900c-81b4de70a9bf"
      },
      "outputs": [
        {
          "name": "stdout",
          "output_type": "stream",
          "text": [
            "Classes détectées : {'Bottle': 0, 'Can': 1, 'Other': 2}\n"
          ]
        }
      ],
      "source": [
        "### Séparation des données en jeux d'entrainement, de validation et de test\n",
        "from torch.utils.data import random_split\n",
        "\n",
        "dataset = CustomImageDataset(csv_file='trash_dataset.csv', img_dir=path+'/data', transform=transform)\n",
        "# Taille totale\n",
        "dataset_size = len(dataset)\n",
        "# mapping\n",
        "print(\"Classes détectées :\", dataset.class_to_idx)\n",
        "\n",
        "train_size = int(0.7 * dataset_size)\n",
        "val_size = int(0.15 * dataset_size)\n",
        "test_size = dataset_size - train_size - val_size\n",
        "\n",
        "# Découpage aléatoire\n",
        "train_dataset, val_dataset, test_dataset = random_split(dataset, [train_size, val_size, test_size])\n",
        "\n",
        "# Dataloaders\n",
        "train_loader = DataLoader(train_dataset, batch_size=32, shuffle=True)\n",
        "val_loader = DataLoader(val_dataset, batch_size=32, shuffle=False)\n",
        "test_loader = DataLoader(test_dataset, batch_size=32, shuffle=False)"
      ]
    },
    {
      "cell_type": "markdown",
      "metadata": {},
      "source": [
        "### Modèle"
      ]
    },
    {
      "cell_type": "code",
      "execution_count": 20,
      "metadata": {
        "colab": {
          "base_uri": "https://localhost:8080/"
        },
        "id": "L2HYNQeuWZ_C",
        "outputId": "721b778a-48de-4d64-ec4e-0055f7370120"
      },
      "outputs": [
        {
          "name": "stderr",
          "output_type": "stream",
          "text": [
            "/home/am/UQAC/VA/va-env/lib/python3.12/site-packages/torchvision/models/_utils.py:208: UserWarning: The parameter 'pretrained' is deprecated since 0.13 and may be removed in the future, please use 'weights' instead.\n",
            "  warnings.warn(\n",
            "/home/am/UQAC/VA/va-env/lib/python3.12/site-packages/torchvision/models/_utils.py:223: UserWarning: Arguments other than a weight enum or `None` for 'weights' are deprecated since 0.13 and may be removed in the future. The current behavior is equivalent to passing `weights=DenseNet121_Weights.IMAGENET1K_V1`. You can also use `weights=DenseNet121_Weights.DEFAULT` to get the most up-to-date weights.\n",
            "  warnings.warn(msg)\n"
          ]
        }
      ],
      "source": [
        "## Mise en place du modèle\n",
        "\n",
        "import torch\n",
        "import torch.nn as nn\n",
        "import torch.optim as optim\n",
        "from torchvision import models\n",
        "\n",
        "device = torch.device(\"cuda\" if torch.cuda.is_available() else \"cpu\")\n",
        "\n",
        "# Charger DenseNet121 préentraîné\n",
        "model = models.densenet121(pretrained=True)\n",
        "\n",
        "# Geler les couches convolutionnelles\n",
        "for param in model.parameters():\n",
        "    param.requires_grad = False\n",
        "\n",
        "# Adapter la dernière couche au nombre de classes\n",
        "num_classes = len(dataset.classes)\n",
        "model.classifier = nn.Linear(model.classifier.in_features, num_classes)\n",
        "\n",
        "model = model.to(device)\n",
        "\n",
        "# Perte et Optimiseur\n",
        "criterion = nn.CrossEntropyLoss()\n",
        "optimizer = optim.Adam(model.classifier.parameters(), lr=0.001)\n",
        "\n"
      ]
    },
    {
      "cell_type": "markdown",
      "metadata": {},
      "source": [
        "### Entrainement \n",
        "\n",
        "Il est possible de sauter la partie entrainement et de récupérer le modèle pré-entrainé par la suite. "
      ]
    },
    {
      "cell_type": "code",
      "execution_count": 21,
      "metadata": {
        "colab": {
          "base_uri": "https://localhost:8080/",
          "height": 701
        },
        "id": "NiegxePuWfLG",
        "outputId": "9fc55dc2-e8cb-4b38-a2c5-98db992a819e"
      },
      "outputs": [
        {
          "name": "stdout",
          "output_type": "stream",
          "text": [
            "Epoch 1/10 | Train Loss: 0.6188 | Train Acc: 81.71% | Val Loss: 0.4526 | Val Acc: 87.33%\n",
            "Epoch 2/10 | Train Loss: 0.5428 | Train Acc: 83.79% | Val Loss: 0.4424 | Val Acc: 87.33%\n",
            "Epoch 3/10 | Train Loss: 0.4940 | Train Acc: 83.86% | Val Loss: 0.4475 | Val Acc: 87.00%\n",
            "Epoch 4/10 | Train Loss: 0.4747 | Train Acc: 84.14% | Val Loss: 0.4391 | Val Acc: 87.00%\n",
            "Epoch 5/10 | Train Loss: 0.4497 | Train Acc: 84.21% | Val Loss: 0.4463 | Val Acc: 87.33%\n",
            "Modèle sauvegardé à l'époque 5\n",
            "Epoch 6/10 | Train Loss: 0.4526 | Train Acc: 84.14% | Val Loss: 0.4459 | Val Acc: 86.00%\n",
            "Epoch 7/10 | Train Loss: 0.4367 | Train Acc: 84.71% | Val Loss: 0.4471 | Val Acc: 84.67%\n",
            "Epoch 8/10 | Train Loss: 0.4132 | Train Acc: 84.64% | Val Loss: 0.4541 | Val Acc: 84.00%\n",
            "Epoch 9/10 | Train Loss: 0.4113 | Train Acc: 85.07% | Val Loss: 0.4486 | Val Acc: 85.00%\n",
            "Epoch 10/10 | Train Loss: 0.4013 | Train Acc: 85.21% | Val Loss: 0.4427 | Val Acc: 85.67%\n",
            "Modèle sauvegardé à l'époque 10\n"
          ]
        },
        {
          "data": {
            "image/png": "[encoded data removed]",
            "text/plain": [
              "<Figure size 1200x500 with 2 Axes>"
            ]
          },
          "metadata": {},
          "output_type": "display_data"
        }
      ],
      "source": [
        "### Fine tuning avec le dataset\n",
        "\n",
        "import torch\n",
        "import matplotlib.pyplot as plt\n",
        "\n",
        "num_epochs = 10\n",
        "\n",
        "train_losses = []\n",
        "val_losses = []\n",
        "train_accuracies = []\n",
        "val_accuracies = []\n",
        "\n",
        "for epoch in range(num_epochs):\n",
        "    model.train()\n",
        "    running_loss = 0.0\n",
        "    correct = 0\n",
        "    total = 0\n",
        "\n",
        "    for images, labels in train_loader:\n",
        "        images, labels = images.to(device), labels.to(device)\n",
        "\n",
        "        optimizer.zero_grad()\n",
        "        outputs = model(images)\n",
        "        loss = criterion(outputs, labels)\n",
        "        loss.backward()\n",
        "        optimizer.step()\n",
        "\n",
        "        running_loss += loss.item()\n",
        "        _, predicted = torch.max(outputs.data, 1)\n",
        "        total += labels.size(0)\n",
        "        correct += (predicted == labels).sum().item()\n",
        "\n",
        "    train_acc = 100 * correct / total\n",
        "    avg_train_loss = running_loss / len(train_loader)\n",
        "    train_losses.append(avg_train_loss)\n",
        "    train_accuracies.append(train_acc)\n",
        "\n",
        "    # Validation\n",
        "    model.eval()\n",
        "    val_loss = 0.0\n",
        "    val_correct = 0\n",
        "    val_total = 0\n",
        "\n",
        "    with torch.no_grad():\n",
        "        for images, labels in val_loader:\n",
        "            images, labels = images.to(device), labels.to(device)\n",
        "            outputs = model(images)\n",
        "            loss = criterion(outputs, labels)\n",
        "            val_loss += loss.item()\n",
        "\n",
        "            _, predicted = torch.max(outputs.data, 1)\n",
        "            val_total += labels.size(0)\n",
        "            val_correct += (predicted == labels).sum().item()\n",
        "\n",
        "    val_acc = 100 * val_correct / val_total\n",
        "    avg_val_loss = val_loss / len(val_loader)\n",
        "    val_losses.append(avg_val_loss)\n",
        "    val_accuracies.append(val_acc)\n",
        "\n",
        "    print(f\"Epoch {epoch+1}/{num_epochs} | \"\n",
        "          f\"Train Loss: {avg_train_loss:.4f} | \"\n",
        "          f\"Train Acc: {train_acc:.2f}% | \"\n",
        "          f\"Val Loss: {avg_val_loss:.4f} | \"\n",
        "          f\"Val Acc: {val_acc:.2f}%\")\n",
        "    \n",
        "    # Sauvegarde du modèle\n",
        "    if (epoch + 1) % 5 == 0:\n",
        "        torch.save(model.state_dict(), f\"model_epoch_{epoch+1}.pth\")\n",
        "        print(f\"Modèle sauvegardé à l'époque {epoch + 1}\")\n",
        "\n",
        "### Affichage des courbes\n",
        "epochs = range(1, num_epochs + 1)\n",
        "\n",
        "plt.figure(figsize=(12, 5))\n",
        "\n",
        "# Courbe des pertes\n",
        "plt.subplot(1, 2, 1)\n",
        "plt.plot(epochs, train_losses, label='Train Loss', marker='o')\n",
        "plt.plot(epochs, val_losses, label='Val Loss', marker='o')\n",
        "plt.title(\"Courbe de perte\")\n",
        "plt.xlabel(\"Époque\")\n",
        "plt.ylabel(\"Loss\")\n",
        "plt.legend()\n",
        "plt.grid(True)\n",
        "\n",
        "# Courbe des précisions\n",
        "plt.subplot(1, 2, 2)\n",
        "plt.plot(epochs, train_accuracies, label='Train Acc', marker='o')\n",
        "plt.plot(epochs, val_accuracies, label='Val Acc', marker='o')\n",
        "plt.title(\"Courbe de précision\")\n",
        "plt.xlabel(\"Époque\")\n",
        "plt.ylabel(\"Accuracy (%)\")\n",
        "plt.legend()\n",
        "plt.grid(True)\n",
        "\n",
        "plt.tight_layout()\n",
        "plt.show()\n"
      ]
    },
    {
      "cell_type": "code",
      "execution_count": null,
      "metadata": {
        "id": "-m1reESZXaxh"
      },
      "outputs": [],
      "source": [
        "### Sauvegarde du modèle\n",
        "torch.save(model.state_dict(), \"densenet_TACO_modified.pth\")"
      ]
    },
    {
      "cell_type": "markdown",
      "metadata": {},
      "source": [
        "### Récupération du modèle pré-entrainé"
      ]
    },
    {
      "cell_type": "code",
      "execution_count": null,
      "metadata": {},
      "outputs": [
        {
          "name": "stderr",
          "output_type": "stream",
          "text": [
            "/home/am/UQAC/VA/va-env/lib/python3.12/site-packages/torchvision/models/_utils.py:208: UserWarning: The parameter 'pretrained' is deprecated since 0.13 and may be removed in the future, please use 'weights' instead.\n",
            "  warnings.warn(\n",
            "/home/am/UQAC/VA/va-env/lib/python3.12/site-packages/torchvision/models/_utils.py:223: UserWarning: Arguments other than a weight enum or `None` for 'weights' are deprecated since 0.13 and may be removed in the future. The current behavior is equivalent to passing `weights=None`.\n",
            "  warnings.warn(msg)\n"
          ]
        },
        {
          "data": {
            "text/plain": [
              "<All keys matched successfully>"
            ]
          },
          "execution_count": 23,
          "metadata": {},
          "output_type": "execute_result"
        }
      ],
      "source": [
        "### Chargement du modèle\n",
        "model = models.densenet121(pretrained=False)\n",
        "model.classifier = nn.Linear(model.classifier.in_features, num_classes)\n",
        "model.load_state_dict(torch.load(\"densenet_TACO_modified.pth\"))\n"
      ]
    },
    {
      "cell_type": "markdown",
      "metadata": {},
      "source": [
        "### Evaluation"
      ]
    },
    {
      "cell_type": "code",
      "execution_count": 24,
      "metadata": {
        "colab": {
          "base_uri": "https://localhost:8080/"
        },
        "id": "jS_3LWbBXdEI",
        "outputId": "99c992d5-3155-4f19-e766-bd6c196906cc"
      },
      "outputs": [
        {
          "name": "stdout",
          "output_type": "stream",
          "text": [
            "Test Accuracy: 83.67%\n",
            "Kappa Score: 0.0294\n",
            "              precision    recall  f1-score   support\n",
            "\n",
            "      Bottle       0.50      0.04      0.07        28\n",
            "         Can       0.00      0.00      0.00        21\n",
            "       Other       0.84      1.00      0.91       251\n",
            "\n",
            "    accuracy                           0.84       300\n",
            "   macro avg       0.45      0.34      0.33       300\n",
            "weighted avg       0.75      0.84      0.77       300\n",
            "\n"
          ]
        },
        {
          "name": "stderr",
          "output_type": "stream",
          "text": [
            "/home/am/UQAC/VA/va-env/lib/python3.12/site-packages/sklearn/metrics/_classification.py:1565: UndefinedMetricWarning: Precision is ill-defined and being set to 0.0 in labels with no predicted samples. Use `zero_division` parameter to control this behavior.\n",
            "  _warn_prf(average, modifier, f\"{metric.capitalize()} is\", len(result))\n",
            "/home/am/UQAC/VA/va-env/lib/python3.12/site-packages/sklearn/metrics/_classification.py:1565: UndefinedMetricWarning: Precision is ill-defined and being set to 0.0 in labels with no predicted samples. Use `zero_division` parameter to control this behavior.\n",
            "  _warn_prf(average, modifier, f\"{metric.capitalize()} is\", len(result))\n",
            "/home/am/UQAC/VA/va-env/lib/python3.12/site-packages/sklearn/metrics/_classification.py:1565: UndefinedMetricWarning: Precision is ill-defined and being set to 0.0 in labels with no predicted samples. Use `zero_division` parameter to control this behavior.\n",
            "  _warn_prf(average, modifier, f\"{metric.capitalize()} is\", len(result))\n"
          ]
        }
      ],
      "source": [
        "### Evaluation du modèle\n",
        "from sklearn.metrics import cohen_kappa_score, classification_report\n",
        "\n",
        "model.eval()\n",
        "test_correct = 0\n",
        "test_total = 0\n",
        "all_preds = []\n",
        "all_labels = []\n",
        "\n",
        "with torch.no_grad():\n",
        "    for images, labels in test_loader:\n",
        "        images, labels = images.to(device), labels.to(device)\n",
        "        outputs = model(images)\n",
        "        _, predicted = torch.max(outputs.data, 1)\n",
        "\n",
        "        test_total += labels.size(0)\n",
        "        test_correct += (predicted == labels).sum().item()\n",
        "\n",
        "        all_preds.extend(predicted.cpu().numpy())\n",
        "        all_labels.extend(labels.cpu().numpy())\n",
        "\n",
        "accuracy = 100 * test_correct / test_total\n",
        "print(f\"Test Accuracy: {accuracy:.2f}%\")\n",
        "\n",
        "class_names = dataset.classes\n",
        "kappa = cohen_kappa_score(all_labels, all_preds)\n",
        "print(f\"Kappa Score: {kappa:.4f}\")\n",
        "\n",
        "unique_labels = sorted(set(all_labels + all_preds))\n",
        "label_names = [dataset.classes[i] for i in unique_labels]\n",
        "print(classification_report(all_labels, all_preds, labels=unique_labels, target_names=label_names))\n",
        "\n"
      ]
    },
    {
      "cell_type": "code",
      "execution_count": 25,
      "metadata": {
        "colab": {
          "base_uri": "https://localhost:8080/",
          "height": 807
        },
        "id": "7f017_ZReb9i",
        "outputId": "90430b7a-4f2e-4b51-c54e-913f761e2881"
      },
      "outputs": [
        {
          "data": {
            "image/png": "[encoded data removed]",
            "text/plain": [
              "<Figure size 1000x800 with 2 Axes>"
            ]
          },
          "metadata": {},
          "output_type": "display_data"
        }
      ],
      "source": [
        "### Affichage d'une matrice de confusion pour plus de clareté\n",
        "import seaborn as sns\n",
        "import matplotlib.pyplot as plt\n",
        "from sklearn.metrics import confusion_matrix\n",
        "\n",
        "cm = confusion_matrix(all_labels, all_preds, labels=unique_labels)\n",
        "plt.figure(figsize=(10, 8))\n",
        "sns.heatmap(cm, annot=True, fmt=\"d\", xticklabels=label_names, yticklabels=label_names, cmap=\"Blues\")\n",
        "plt.xlabel(\"Prédiction\")\n",
        "plt.ylabel(\"Vérité\")\n",
        "plt.title(\"Matrice de confusion\")\n",
        "plt.xticks()\n",
        "plt.yticks()\n",
        "plt.tight_layout()\n",
        "plt.show()"
      ]
    },
    {
      "cell_type": "markdown",
      "metadata": {
        "id": "X_LjPKxFn7Gj"
      },
      "source": [
        "## Evaluation de DenseNet121 amélioré sur nos images"
      ]
    },
    {
      "cell_type": "code",
      "execution_count": 27,
      "metadata": {},
      "outputs": [
        {
          "name": "stderr",
          "output_type": "stream",
          "text": [
            "/home/am/UQAC/VA/va-env/lib/python3.12/site-packages/torchvision/models/_utils.py:208: UserWarning: The parameter 'pretrained' is deprecated since 0.13 and may be removed in the future, please use 'weights' instead.\n",
            "  warnings.warn(\n",
            "/home/am/UQAC/VA/va-env/lib/python3.12/site-packages/torchvision/models/_utils.py:223: UserWarning: Arguments other than a weight enum or `None` for 'weights' are deprecated since 0.13 and may be removed in the future. The current behavior is equivalent to passing `weights=None`.\n",
            "  warnings.warn(msg)\n"
          ]
        },
        {
          "name": "stdout",
          "output_type": "stream",
          "text": [
            "Predicted label: Other\n"
          ]
        }
      ],
      "source": [
        "### Prédiction sur une image\n",
        "import torch\n",
        "from torchvision import transforms\n",
        "from PIL import Image\n",
        "import os\n",
        "from torchvision import models\n",
        "\n",
        "# Paramètres \n",
        "device = torch.device('cpu')\n",
        "\n",
        "# Chargement du modèle\n",
        "model = models.densenet121(pretrained=False)\n",
        "num_features = model.classifier.in_features\n",
        "model.classifier = torch.nn.Linear(num_features, 3)  # 3 classes\n",
        "\n",
        "# Charger les poids du modèle\n",
        "model.load_state_dict(torch.load('densenet121_others.pth', map_location=device))\n",
        "model.to(device)\n",
        "model.eval()\n",
        "\n",
        "# Remapping des classes\n",
        "\"\"\"label_map = {\n",
        "    0: 'Aluminium foil', 1: 'Battery', 2: 'Blister pack', 3: 'Bottle', 4: 'Bottle cap',\n",
        "    5: 'Broken glass', 6: 'Can', 7: 'Carton', 8: 'Cigarette', 9: 'Cup', 10: 'Food waste',\n",
        "    11: 'Glass jar', 12: 'Lid', 13: 'Other plastic', 14: 'Paper', 15: 'Paper bag',\n",
        "    16: 'Plastic bag & wrapper', 17: 'Plastic container', 18: 'Plastic gloves', 19: 'Plastic utensils',\n",
        "    20: 'Pop tab', 21: 'Rope & strings', 22: 'Scrap metal', 23: 'Shoe', 24: 'Squeezable tube',\n",
        "    25: 'Straw', 26: 'Styrofoam piece', 27: 'Unlabeled litter'\n",
        "}\n",
        "\"\"\"\n",
        "\n",
        "label_map = { 0: 'Bottle', 1: 'Can', 2: 'Other' }  #\n",
        "\n",
        "# Transformer l'image\n",
        "def transform_image(image_path):\n",
        "    transform = transforms.Compose([\n",
        "        transforms.Resize((224, 224)),  # Redimensionner l'image\n",
        "        transforms.ToTensor(),  # Convertir l'image en tenseur\n",
        "        transforms.Normalize(mean=[0.485, 0.456, 0.406], std=[0.229, 0.224, 0.225])  # Normalisation\n",
        "    ])\n",
        "    image = Image.open(image_path)  # Ouvrir l'image\n",
        "    image = transform(image).unsqueeze(0)  # Appliquer les transformations et ajouter une dimension batch\n",
        "    return image.to(device)\n",
        "\n",
        "# Prédiction\n",
        "def predict_image_class(image_path):\n",
        "    # Transformer l'image\n",
        "    image = transform_image(image_path)\n",
        "    \n",
        "    # Faire la prédiction\n",
        "    with torch.no_grad():\n",
        "        outputs = model(image)\n",
        "        _, predicted_class = torch.max(outputs, 1)  # Obtenir la classe prédite\n",
        "    \n",
        "    predicted_label = label_map[predicted_class.item()]  # Récupérer le nom de la classe\n",
        "    return predicted_label\n",
        "\n",
        "# Exemple d'utilisation\n",
        "image_path = 'data/bottle/mouvement_826.jpg'  # Remplacez par le chemin de votre image\n",
        "predicted_label = predict_image_class(image_path)\n",
        "print(f\"Predicted label: {predicted_label}\")\n"
      ]
    },
    {
      "cell_type": "code",
      "execution_count": 29,
      "metadata": {},
      "outputs": [
        {
          "name": "stdout",
          "output_type": "stream",
          "text": [
            "Accuracy: 27.25%\n",
            "['Other', 'Other', 'Other', 'Other', 'Other', 'Other', 'Other', 'Other', 'Other', 'Other', 'Other', 'Other', 'Other', 'Bottle', 'Other', 'Other', 'Other', 'Other', 'Other', 'Other', 'Other', 'Other', 'Other', 'Bottle', 'Other', 'Other', 'Bottle', 'Other', 'Other', 'Other', 'Other', 'Bottle', 'Other', 'Other', 'Other', 'Other', 'Other', 'Other', 'Other', 'Other', 'Other', 'Other', 'Other', 'Other', 'Other', 'Other', 'Other', 'Other', 'Other', 'Other', 'Other', 'Other', 'Other', 'Other', 'Other', 'Other', 'Other', 'Other', 'Other', 'Other', 'Other', 'Other', 'Other', 'Other', 'Bottle', 'Other', 'Other', 'Other', 'Other', 'Other', 'Other', 'Other', 'Other', 'Other', 'Other', 'Other', 'Other', 'Other', 'Other', 'Other', 'Other', 'Other', 'Other', 'Other', 'Other', 'Other', 'Other', 'Other', 'Other', 'Other', 'Other', 'Other', 'Other', 'Other', 'Other', 'Other', 'Other', 'Other', 'Other', 'Other', 'Other', 'Other', 'Other', 'Other', 'Other', 'Other', 'Other', 'Other', 'Other', 'Other', 'Other', 'Bottle', 'Other', 'Other', 'Other', 'Other', 'Other', 'Other', 'Bottle', 'Other', 'Other', 'Other', 'Other', 'Other', 'Other', 'Other', 'Other', 'Other', 'Bottle', 'Other', 'Other', 'Other', 'Other', 'Other', 'Other', 'Other', 'Other', 'Other', 'Other', 'Other', 'Other', 'Other', 'Other', 'Other', 'Other', 'Other', 'Other', 'Other', 'Other', 'Other', 'Other', 'Other', 'Other', 'Other', 'Other', 'Other', 'Other', 'Other', 'Other', 'Other', 'Other', 'Other', 'Other', 'Other', 'Other', 'Other', 'Other', 'Other', 'Other', 'Other', 'Other', 'Other', 'Other', 'Other', 'Other', 'Other', 'Other', 'Other', 'Other', 'Other', 'Other', 'Other', 'Other', 'Other', 'Other', 'Other', 'Other', 'Other', 'Other', 'Other', 'Other', 'Other', 'Other', 'Other', 'Other', 'Other', 'Other', 'Other', 'Other', 'Other', 'Other', 'Other', 'Other', 'Other', 'Other', 'Other', 'Other', 'Other', 'Other', 'Other', 'Other', 'Other', 'Other', 'Other', 'Other', 'Other', 'Other', 'Other', 'Other', 'Other', 'Other', 'Other', 'Other', 'Other', 'Other', 'Other', 'Other', 'Other', 'Other', 'Other', 'Other', 'Other', 'Other', 'Other', 'Other', 'Other', 'Other', 'Other', 'Other', 'Other', 'Other', 'Other', 'Other', 'Other', 'Other', 'Other', 'Other', 'Other', 'Other', 'Other', 'Other', 'Other', 'Other', 'Other', 'Other', 'Other', 'Other', 'Other', 'Other', 'Other', 'Other', 'Other', 'Other', 'Other', 'Other', 'Other', 'Other', 'Other', 'Other', 'Other', 'Other', 'Other', 'Other', 'Other', 'Other', 'Other', 'Other', 'Other', 'Other', 'Other', 'Other', 'Other', 'Other', 'Other', 'Other', 'Other', 'Other', 'Other', 'Other', 'Other', 'Other', 'Other', 'Other', 'Other', 'Other', 'Other', 'Other', 'Other', 'Other', 'Other', 'Other', 'Other', 'Other', 'Other', 'Other', 'Other', 'Other', 'Other', 'Other', 'Other', 'Other', 'Other', 'Other', 'Other', 'Other', 'Other', 'Other', 'Other', 'Other', 'Other', 'Other', 'Other', 'Other', 'Other', 'Other', 'Other', 'Other', 'Other', 'Other', 'Other', 'Other', 'Other', 'Other', 'Other', 'Other', 'Other', 'Other', 'Other', 'Other', 'Other', 'Other', 'Other', 'Other', 'Other', 'Other', 'Other', 'Other', 'Other', 'Other', 'Other', 'Other', 'Other', 'Other', 'Other', 'Other', 'Other', 'Other', 'Other', 'Other', 'Other', 'Other', 'Other', 'Other', 'Other', 'Other', 'Other', 'Other', 'Other', 'Other', 'Other', 'Other', 'Other', 'Other', 'Other', 'Other', 'Other', 'Other', 'Other', 'Other', 'Other', 'Other', 'Other', 'Other', 'Other', 'Other', 'Other', 'Other', 'Other', 'Other', 'Other', 'Other', 'Other', 'Other', 'Other', 'Other', 'Other', 'Other', 'Other', 'Other', 'Other', 'Other', 'Other', 'Other', 'Other', 'Other', 'Other', 'Other', 'Other', 'Other', 'Other', 'Other', 'Other', 'Other', 'Other', 'Other', 'Other', 'Other', 'Other', 'Other', 'Other', 'Other', 'Other', 'Other', 'Other', 'Other', 'Other', 'Other', 'Other', 'Other', 'Other', 'Other', 'Other', 'Other', 'Other', 'Other', 'Other', 'Other', 'Other', 'Other', 'Other', 'Other', 'Other', 'Other', 'Other', 'Other', 'Other', 'Other', 'Other', 'Other', 'Other', 'Other', 'Other', 'Other', 'Other', 'Other', 'Other', 'Other', 'Other', 'Other', 'Other', 'Other', 'Other', 'Other', 'Other', 'Other', 'Other', 'Other', 'Other', 'Other', 'Other', 'Other', 'Other', 'Other', 'Other', 'Other', 'Other', 'Other', 'Other', 'Other', 'Other', 'Other', 'Other', 'Other', 'Other', 'Other', 'Other', 'Other', 'Other']\n"
          ]
        }
      ],
      "source": [
        "### Evaluation sur nos images \n",
        "\n",
        "import numpy as np\n",
        "from sklearn.metrics import confusion_matrix, accuracy_score\n",
        "import matplotlib.pyplot as plt\n",
        "import seaborn as sns\n",
        "from collections import defaultdict\n",
        "\n",
        "# Chemin vers le dossier contenant les images\n",
        "bottle_path = \"data/bottle\"\n",
        "canette_path = \"data/canette\"\n",
        "other_path = \"data/autres\"\n",
        "empty_path = \"data/vide\"\n",
        "\n",
        "# Initialisation des prédictions et des labels réels\n",
        "predictions = []\n",
        "true_labels = []\n",
        "\n",
        "# Prédictions sur les bouteilles\n",
        "for filename in os.listdir(bottle_path):\n",
        "    if filename.endswith('.jpg') or filename.endswith('.png'):\n",
        "        image_path = os.path.join(bottle_path, filename)\n",
        "        predicted_label = predict_image_class(image_path)\n",
        "        predictions.append(predicted_label)\n",
        "        true_labels.append('Bottle')  \n",
        "\n",
        "# Prédictions sur les canettes\n",
        "for filename in os.listdir(canette_path):\n",
        "    if filename.endswith('.jpg') or filename.endswith('.png'):\n",
        "        image_path = os.path.join(canette_path, filename)\n",
        "        predicted_label = predict_image_class(image_path)\n",
        "        predictions.append(predicted_label)\n",
        "        true_labels.append('Can')  \n",
        "\n",
        "# Prédictions sur les autres images\n",
        "for filename in os.listdir(other_path):\n",
        "    if filename.endswith('.jpg') or filename.endswith('.png'):\n",
        "        image_path = os.path.join(other_path, filename)\n",
        "        predicted_label = predict_image_class(image_path)\n",
        "        predictions.append(predicted_label)\n",
        "        true_labels.append('Other')\n",
        "\n",
        "# Prédictions sur les images vides (on les classe dans other)\n",
        "for filename in os.listdir(empty_path):\n",
        "    if filename.endswith('.jpg') or filename.endswith('.png'):\n",
        "        image_path = os.path.join(empty_path, filename)\n",
        "        predicted_label = predict_image_class(image_path)\n",
        "        predictions.append(predicted_label)\n",
        "        true_labels.append('Other')\n",
        "\n",
        "\n",
        "# Calcul de l'accuracy\n",
        "accuracy = accuracy_score(true_labels, predictions)\n",
        "print(f\"Accuracy: {accuracy * 100:.2f}%\")\n",
        "\n",
        "print(predictions)"
      ]
    },
    {
      "cell_type": "code",
      "execution_count": 31,
      "metadata": {},
      "outputs": [
        {
          "data": {
            "image/png": "[encoded data removed]",
            "text/plain": [
              "<Figure size 800x600 with 2 Axes>"
            ]
          },
          "metadata": {},
          "output_type": "display_data"
        }
      ],
      "source": [
        "# Création de la matrice de confusion\n",
        "labels = ['Bottle', 'Can', 'Other']\n",
        "cm = confusion_matrix(true_labels, predictions, labels=labels)\n",
        "\n",
        "# Affichage\n",
        "plt.figure(figsize=(8, 6))\n",
        "sns.heatmap(cm, annot=True, fmt='d', cmap='Blues', xticklabels=labels, yticklabels=labels)\n",
        "plt.ylabel('True label')\n",
        "plt.xlabel('Predicted label')\n",
        "plt.title('Confusion Matrix')\n",
        "plt.show()"
      ]
    },
    {
      "cell_type": "markdown",
      "metadata": {},
      "source": [
        "La plupart des éléments sont reconnus comme autres sauf quelques bouteilles. \n",
        "Il y a peut être une trop forte inluence du fond pour un classeur d'image classique. \n",
        "Ce dataset semble ne pas être adapté pour être utilisé avec un classeur d'image."
      ]
    }
  ],
  "metadata": {
    "accelerator": "GPU",
    "colab": {
      "gpuType": "T4",
      "provenance": []
    },
    "kernelspec": {
      "display_name": "va-env",
      "language": "python",
      "name": "python3"
    },
    "language_info": {
      "codemirror_mode": {
        "name": "ipython",
        "version": 3
      },
      "file_extension": ".py",
      "mimetype": "text/x-python",
      "name": "python",
      "nbconvert_exporter": "python",
      "pygments_lexer": "ipython3",
      "version": "3.12.3"
    }
  },
  "nbformat": 4,
  "nbformat_minor": 0
}
