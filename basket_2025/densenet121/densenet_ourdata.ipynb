{
 "cells": [
  {
   "cell_type": "markdown",
   "metadata": {},
   "source": [
    "# Vision artificielle et traitements des images"
   ]
  },
  {
   "cell_type": "markdown",
   "metadata": {},
   "source": [
    "Ce notebook présente l'utilisation du modèle DenseNet121 pour classer les images de notre dataset. Il est possible de ne pas lancer l'entrainement du modèle et de charger le modèle pré-entrainé sur notre dataset qui se nomme \"densenet_ourdata.pth\". "
   ]
  },
  {
   "cell_type": "markdown",
   "metadata": {},
   "source": [
    "## Fine tuning de DenseNet121 avec notre dataset"
   ]
  },
  {
   "cell_type": "markdown",
   "metadata": {},
   "source": [
    "Notre dataset contient les classes : \n",
    "- bouteilles\n",
    "- canettes\n",
    "- autres \n",
    "- vides"
   ]
  },
  {
   "cell_type": "markdown",
   "metadata": {},
   "source": [
    "### Pré-traitement des données"
   ]
  },
  {
   "cell_type": "code",
   "execution_count": 5,
   "metadata": {},
   "outputs": [],
   "source": [
    "import torch\n",
    "from torch.utils.data import Dataset, DataLoader, random_split\n",
    "from PIL import Image\n",
    "import os\n",
    "from torchvision import transforms\n",
    "\n",
    "# Dataset personnalisé sans transformation\n",
    "class CustomImageDataset(Dataset):\n",
    "    def __init__(self, root_dir):\n",
    "        self.root_dir = root_dir\n",
    "        self.image_paths = []\n",
    "        self.labels = []\n",
    "        self.class_map = {\"autres\": 0, \"bottle\": 1, \"canette\": 2, \"vide\": 3}  # Labels numériques\n",
    "\n",
    "        for class_name, label in self.class_map.items():\n",
    "            class_dir = os.path.join(root_dir, class_name)\n",
    "            if os.path.exists(class_dir):  # Vérifier que le dossier existe\n",
    "                for img_name in os.listdir(class_dir):\n",
    "                    img_path = os.path.join(class_dir, img_name)\n",
    "                    if img_name.lower().endswith((\"png\", \"jpg\", \"jpeg\")):  # Filtrer les images\n",
    "                        self.image_paths.append(img_path)\n",
    "                        self.labels.append(label)\n",
    "\n",
    "    def __len__(self):\n",
    "        return len(self.image_paths)\n",
    "\n",
    "    def __getitem__(self, idx):\n",
    "        img_path = self.image_paths[idx]\n",
    "        image = Image.open(img_path).convert(\"RGB\")  # Charger l'image en couleur\n",
    "        label = self.labels[idx]\n",
    "        return image, label  # Retourne une image PIL et un label\n",
    "\n",
    "# Création du dataset brut\n",
    "dataset = CustomImageDataset(root_dir=\"data\")"
   ]
  },
  {
   "cell_type": "code",
   "execution_count": 6,
   "metadata": {},
   "outputs": [],
   "source": [
    "# Séparation en train/test (80% train, 10% validation, 10% test)\n",
    "train_size = int(0.8 * len(dataset))\n",
    "val_size = int(0.1 * len(dataset))\n",
    "test_size = len(dataset) - train_size - val_size\n",
    "train_dataset, val_dataset, test_dataset = random_split(dataset, [train_size, val_size, test_size])\n"
   ]
  },
  {
   "cell_type": "code",
   "execution_count": 7,
   "metadata": {},
   "outputs": [
    {
     "name": "stdout",
     "output_type": "stream",
     "text": [
      "Batch de 32 images chargé avec taille torch.Size([32, 3, 224, 224])\n"
     ]
    }
   ],
   "source": [
    "# Transformation des données \n",
    "\n",
    "# Transformations spécifiques pour DenseNet121\n",
    "densenet121_transform = transforms.Compose([\n",
    "    transforms.Resize((224, 224)),  # Taille requise par DenseNet121\n",
    "    transforms.ToTensor(),  # Conversion en tenseur PyTorch\n",
    "    transforms.Normalize(mean=[0.485, 0.456, 0.406], std=[0.229, 0.224, 0.225])  # Normalisation ImageNet\n",
    "])\n",
    "\n",
    "# Appliquer les transformations avec un `collate_fn`\n",
    "def collate_fn(batch):\n",
    "    images, labels = zip(*batch)  # Séparer images et labels\n",
    "    images = [densenet121_transform(img) for img in images]  # Appliquer transformation\n",
    "    return torch.stack(images), torch.tensor(labels)\n",
    "\n",
    "# DataLoaders avec batch_size=32\n",
    "train_loader_densenet121 = DataLoader(train_dataset, batch_size=32, shuffle=True, collate_fn=collate_fn)\n",
    "val_loader_densenet121 = DataLoader(val_dataset, batch_size=32, shuffle=False, collate_fn=collate_fn)\n",
    "test_loader_densenet121 = DataLoader(test_dataset, batch_size=32, shuffle=False, collate_fn=collate_fn)\n",
    "\n",
    "# Vérification du DataLoader\n",
    "images, labels = next(iter(train_loader_densenet121))\n",
    "print(f\"Batch de {len(images)} images chargé avec taille {images.shape}\")"
   ]
  },
  {
   "cell_type": "markdown",
   "metadata": {},
   "source": [
    "### Modèle DenseNet121 pré-entrainé"
   ]
  },
  {
   "cell_type": "code",
   "execution_count": 8,
   "metadata": {},
   "outputs": [],
   "source": [
    "import torchvision.models as models\n",
    "import torch.nn as nn\n",
    "import torch.optim as optim"
   ]
  },
  {
   "cell_type": "code",
   "execution_count": 15,
   "metadata": {},
   "outputs": [
    {
     "name": "stderr",
     "output_type": "stream",
     "text": [
      "/home/am/UQAC/VA/va-env/lib/python3.12/site-packages/torchvision/models/_utils.py:208: UserWarning: The parameter 'pretrained' is deprecated since 0.13 and may be removed in the future, please use 'weights' instead.\n",
      "  warnings.warn(\n",
      "/home/am/UQAC/VA/va-env/lib/python3.12/site-packages/torchvision/models/_utils.py:223: UserWarning: Arguments other than a weight enum or `None` for 'weights' are deprecated since 0.13 and may be removed in the future. The current behavior is equivalent to passing `weights=DenseNet121_Weights.IMAGENET1K_V1`. You can also use `weights=DenseNet121_Weights.DEFAULT` to get the most up-to-date weights.\n",
      "  warnings.warn(msg)\n"
     ]
    }
   ],
   "source": [
    "# Charger le modèle DenseNet121 pré-entraîné\n",
    "model = models.densenet121(pretrained=True)\n",
    "\n",
    "# Modifier la dernière couche pour correspondre à notre nombre de classes (2: \"bottle\" et \"canette\")\n",
    "model.classifier = nn.Linear(model.classifier.in_features, 4)  # 2 classes\n",
    "\n",
    "# Déplacer le modèle sur le bon appareil (GPU si disponible, sinon CPU)\n",
    "device = torch.device(\"cpu\")\n",
    "model = model.to(device)"
   ]
  },
  {
   "cell_type": "code",
   "execution_count": 16,
   "metadata": {},
   "outputs": [],
   "source": [
    "# Définir la fonction de perte et l'optimiseur\n",
    "criterion = nn.CrossEntropyLoss()\n",
    "optimizer = optim.Adam(model.classifier.parameters(), lr=0.001)"
   ]
  },
  {
   "cell_type": "markdown",
   "metadata": {},
   "source": [
    "### Entrainement"
   ]
  },
  {
   "cell_type": "markdown",
   "metadata": {},
   "source": [
    "Il est possible de sauter la partie entrainement et de récupérer le modèle déjà entrainé par la suite. "
   ]
  },
  {
   "cell_type": "code",
   "execution_count": 17,
   "metadata": {},
   "outputs": [],
   "source": [
    "# Entrainement avec affichage de la perte et de la précision\n",
    "\n",
    "def train_model(model, train_loader, val_loader, criterion, optimizer, num_epochs=10):\n",
    "    train_losses = []\n",
    "    val_losses = []\n",
    "    train_accuracies = []\n",
    "    val_accuracies = []\n",
    "    for epoch in range(num_epochs):\n",
    "        model.train()\n",
    "        running_loss = 0.0\n",
    "        correct = 0\n",
    "        total = 0\n",
    "        \n",
    "        for images, labels in train_loader:\n",
    "            images, labels = images.to(device), labels.to(device)\n",
    "            \n",
    "            optimizer.zero_grad()\n",
    "            outputs = model(images)\n",
    "            loss = criterion(outputs, labels)\n",
    "            loss.backward()\n",
    "            optimizer.step()\n",
    "            running_loss += loss.item()\n",
    "            _, predicted = torch.max(outputs.data, 1)\n",
    "            total += labels.size(0)\n",
    "            correct += (predicted == labels).sum().item()\n",
    "\n",
    "        train_loss = running_loss / len(train_loader)\n",
    "        train_accuracy = 100 * correct / total\n",
    "        train_losses.append(train_loss)\n",
    "        train_accuracies.append(train_accuracy)\n",
    "        print(f\"Epoch [{epoch+1}/{num_epochs}], Train Loss: {train_loss:.4f}, Train Accuracy: {train_accuracy:.2f}%\")\n",
    "        # Validation\n",
    "        model.eval()\n",
    "        val_loss = 0.0\n",
    "        correct = 0\n",
    "        total = 0\n",
    "\n",
    "        with torch.no_grad():\n",
    "            for images, labels in val_loader:\n",
    "                images, labels = images.to(device), labels.to(device)\n",
    "                outputs = model(images)\n",
    "                loss = criterion(outputs, labels)\n",
    "                val_loss += loss.item()\n",
    "                _, predicted = torch.max(outputs.data, 1)\n",
    "                total += labels.size(0)\n",
    "                correct += (predicted == labels).sum().item()\n",
    "        val_loss /= len(val_loader)\n",
    "        val_accuracy = 100 * correct / total\n",
    "        val_losses.append(val_loss)\n",
    "        val_accuracies.append(val_accuracy)\n",
    "        print(f\"Validation Loss: {val_loss:.4f}, Validation Accuracy: {val_accuracy:.2f}%\")\n",
    "    return train_losses, val_losses, train_accuracies, val_accuracies\n",
    "\n",
    "# Affichage des courbes de perte et de précision\n",
    "import matplotlib.pyplot as plt\n",
    "\n",
    "def plot_metrics(train_losses, val_losses, train_accuracies, val_accuracies):\n",
    "    epochs = range(1, len(train_losses) + 1)\n",
    "    \n",
    "    # Perte\n",
    "    plt.figure(figsize=(12, 5))\n",
    "    plt.subplot(1, 2, 1)\n",
    "    plt.plot(epochs, train_losses, label='Train Loss')\n",
    "    plt.plot(epochs, val_losses, label='Validation Loss')\n",
    "    plt.title('Loss')\n",
    "    plt.xlabel('Epochs')\n",
    "    plt.ylabel('Loss')\n",
    "    plt.legend()\n",
    "    \n",
    "    # Précision\n",
    "    plt.subplot(1, 2, 2)\n",
    "    plt.plot(epochs, train_accuracies, label='Train Accuracy')\n",
    "    plt.plot(epochs, val_accuracies, label='Validation Accuracy')\n",
    "    plt.title('Accuracy')\n",
    "    plt.xlabel('Epochs')\n",
    "    plt.ylabel('Accuracy (%)')\n",
    "    plt.legend()\n",
    "    \n",
    "    plt.show()\n"
   ]
  },
  {
   "cell_type": "code",
   "execution_count": 18,
   "metadata": {},
   "outputs": [
    {
     "name": "stdout",
     "output_type": "stream",
     "text": [
      "Epoch [1/10], Train Loss: 1.0534, Train Accuracy: 53.59%\n",
      "Validation Loss: 1.0042, Validation Accuracy: 52.08%\n",
      "Epoch [2/10], Train Loss: 0.6609, Train Accuracy: 90.00%\n",
      "Validation Loss: 0.6881, Validation Accuracy: 81.25%\n",
      "Epoch [3/10], Train Loss: 0.4596, Train Accuracy: 94.62%\n",
      "Validation Loss: 0.4980, Validation Accuracy: 89.58%\n",
      "Epoch [4/10], Train Loss: 0.3070, Train Accuracy: 99.23%\n",
      "Validation Loss: 0.2802, Validation Accuracy: 97.92%\n",
      "Epoch [5/10], Train Loss: 0.2548, Train Accuracy: 98.46%\n",
      "Validation Loss: 0.2303, Validation Accuracy: 97.92%\n",
      "Epoch [6/10], Train Loss: 0.2192, Train Accuracy: 99.23%\n",
      "Validation Loss: 0.1832, Validation Accuracy: 100.00%\n",
      "Epoch [7/10], Train Loss: 0.2062, Train Accuracy: 99.23%\n",
      "Validation Loss: 0.1523, Validation Accuracy: 100.00%\n",
      "Epoch [8/10], Train Loss: 0.1743, Train Accuracy: 99.49%\n",
      "Validation Loss: 0.1354, Validation Accuracy: 100.00%\n",
      "Epoch [9/10], Train Loss: 0.1568, Train Accuracy: 99.23%\n",
      "Validation Loss: 0.1117, Validation Accuracy: 100.00%\n",
      "Epoch [10/10], Train Loss: 0.1364, Train Accuracy: 99.23%\n",
      "Validation Loss: 0.1121, Validation Accuracy: 100.00%\n"
     ]
    },
    {
     "data": {
      "image/png": "[encoded data removed]",
      "text/plain": [
       "<Figure size 1200x500 with 2 Axes>"
      ]
     },
     "metadata": {},
     "output_type": "display_data"
    }
   ],
   "source": [
    "# Entraîner le modèle\n",
    "train_losses, val_losses, train_accuracies, val_accuracies = train_model(\n",
    "    model,\n",
    "    train_loader_densenet121,\n",
    "    val_loader_densenet121,\n",
    "    criterion,\n",
    "    optimizer,\n",
    "    num_epochs=10\n",
    ")\n",
    "# Afficher les courbes de perte et de précision\n",
    "plot_metrics(train_losses, val_losses, train_accuracies, val_accuracies)"
   ]
  },
  {
   "cell_type": "code",
   "execution_count": null,
   "metadata": {},
   "outputs": [],
   "source": [
    "# Sauvegarder le modele\n",
    "torch.save(model.state_dict(), \"densenet_ourdata.pth\")"
   ]
  },
  {
   "cell_type": "markdown",
   "metadata": {},
   "source": [
    "### Récupération du modèle pré-entrainé"
   ]
  },
  {
   "cell_type": "code",
   "execution_count": null,
   "metadata": {},
   "outputs": [],
   "source": [
    "# Charger le modèle \n",
    "model = models.densenet121(pretrained=False)\n",
    "model.classifier = nn.Linear(model.classifier.in_features, 4)  # 2 classes\n",
    "model.load_state_dict(torch.load(\"densenet_ourdata.pth\"))"
   ]
  },
  {
   "cell_type": "markdown",
   "metadata": {},
   "source": [
    "### Evaluation"
   ]
  },
  {
   "cell_type": "code",
   "execution_count": 19,
   "metadata": {},
   "outputs": [],
   "source": [
    "# Évaluation du modèle sur le jeu de test\n",
    "\n",
    "def evaluate_model(model, test_loader):\n",
    "    with torch.no_grad():\n",
    "        model.eval()\n",
    "        correct = 0\n",
    "        total = 0\n",
    "        test_loss = 0.0\n",
    "\n",
    "        for images, labels in test_loader:\n",
    "            images, labels = images.to(device), labels.to(device)\n",
    "            outputs = model(images)\n",
    "            loss = criterion(outputs, labels)\n",
    "            test_loss += loss.item()\n",
    "            _, predicted = torch.max(outputs.data, 1)\n",
    "            total += labels.size(0)\n",
    "            correct += (predicted == labels).sum().item()\n",
    "        test_loss /= len(test_loader)\n",
    "        accuracy = 100 * correct / total\n",
    "        print(f\"Test Loss: {test_loss:.4f}, Test Accuracy: {accuracy:.2f}%\")"
   ]
  },
  {
   "cell_type": "code",
   "execution_count": 20,
   "metadata": {},
   "outputs": [
    {
     "name": "stdout",
     "output_type": "stream",
     "text": [
      "Test Loss: 0.1274, Test Accuracy: 98.00%\n"
     ]
    }
   ],
   "source": [
    "# Évaluer le modèle\n",
    "evaluate_model(model, test_loader_densenet121)"
   ]
  },
  {
   "cell_type": "markdown",
   "metadata": {},
   "source": [
    "Les résultats sont plutôt bon avec notre jeu de données. Cependant, notre jeu de données n'est pas assez complet pour garantir que le modèle sera resistant à des changements. De plus, une accuracy de 98% n'est peut être pas suffisante pour notre application. "
   ]
  }
 ],
 "metadata": {
  "kernelspec": {
   "display_name": "va-env",
   "language": "python",
   "name": "python3"
  },
  "language_info": {
   "codemirror_mode": {
    "name": "ipython",
    "version": 3
   },
   "file_extension": ".py",
   "mimetype": "text/x-python",
   "name": "python",
   "nbconvert_exporter": "python",
   "pygments_lexer": "ipython3",
   "version": "3.12.3"
  }
 },
 "nbformat": 4,
 "nbformat_minor": 2
}
